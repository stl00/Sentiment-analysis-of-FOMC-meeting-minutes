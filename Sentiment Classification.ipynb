{
 "cells": [
  {
   "cell_type": "code",
   "execution_count": 1,
   "id": "d6c12cab",
   "metadata": {
    "ExecuteTime": {
     "end_time": "2023-04-30T01:24:55.227752Z",
     "start_time": "2023-04-30T01:24:51.051946Z"
    },
    "scrolled": false
   },
   "outputs": [
    {
     "name": "stderr",
     "output_type": "stream",
     "text": [
      "/Users/olliesun/opt/anaconda3/envs/NLP2/lib/python3.8/site-packages/torchtext/data/utils.py:123: UserWarning: Spacy model \"en\" could not be loaded, trying \"en_core_web_sm\" instead\n",
      "  warnings.warn(f'Spacy model \"{language}\" could not be loaded, trying \"{OLD_MODEL_SHORTCUTS[language]}\" instead')\n"
     ]
    }
   ],
   "source": [
    "import torch\n",
    "import torch.nn as nn\n",
    "import torch.optim as optim\n",
    "from torchtext.legacy import data\n",
    "from torchtext.legacy import datasets\n",
    "from sklearn.model_selection import train_test_split\n",
    "from nltk.corpus import stopwords\n",
    "from nltk.tokenize import word_tokenize\n",
    "\n",
    "import spacy\n",
    "\n",
    "# Preprocess the text data\n",
    "def preprocess_text(tokens):\n",
    "    \n",
    "    # Convert to lowercase and remove non-alphabetic characters\n",
    "    words = [word.lower() for word in tokens if word.isalpha()]\n",
    "    \n",
    "    # Remove stopwords\n",
    "    stop_words = set(stopwords.words('english'))\n",
    "    clean_words = [word for word in words if word not in stop_words]\n",
    "    \n",
    "    return clean_words\n",
    "\n",
    "# Create the dataset\n",
    "TEXT = data.Field(\n",
    "    tokenize='spacy',\n",
    "    preprocessing=preprocess_text,\n",
    "    lower=True,\n",
    "    batch_first=True)\n",
    "\n",
    "LABEL = data.LabelField(dtype=torch.float, batch_first=True)\n",
    "\n",
    "dataset = data.TabularDataset(\n",
    "    path=\"sentiment_data.csv\",\n",
    "    format=\"csv\",\n",
    "    fields={\n",
    "        \"text\": (\"text\", TEXT),\n",
    "        \"label\": (\"label\", LABEL)\n",
    "    },\n",
    ")"
   ]
  },
  {
   "cell_type": "code",
   "execution_count": 2,
   "id": "ae2feba4",
   "metadata": {
    "ExecuteTime": {
     "end_time": "2023-04-30T01:24:59.096306Z",
     "start_time": "2023-04-30T01:24:58.686494Z"
    }
   },
   "outputs": [],
   "source": [
    "# Split the dataset into training and testing sets\n",
    "train_data, test_data = dataset.split(split_ratio=0.8)\n",
    "\n",
    "# Build the vocabulary\n",
    "TEXT.build_vocab(train_data, max_size=10000, vectors=\"glove.6B.100d\", unk_init=torch.Tensor.normal_)\n",
    "LABEL.build_vocab(train_data)\n",
    "\n",
    "# Create data iterators\n",
    "BATCH_SIZE = 64\n",
    "device = torch.device(\"cuda\" if torch.cuda.is_available() else \"cpu\")\n",
    "train_iterator, test_iterator = data.BucketIterator.splits(\n",
    "    (train_data, test_data),\n",
    "    batch_size=BATCH_SIZE,\n",
    "    device=device,\n",
    "    sort_key = lambda x: len(x.text),\n",
    "    sort_within_batch=True\n",
    ")\n",
    "\n",
    "# Create the LSTM model\n",
    "class LSTMClassifier(nn.Module):\n",
    "    def __init__(self, vocab_size, embedding_dim, hidden_dim, output_dim, n_layers, dropout):\n",
    "        super().__init__()\n",
    "        self.embedding = nn.Embedding(vocab_size, embedding_dim)\n",
    "        self.lstm = nn.LSTM(embedding_dim, hidden_dim, num_layers=n_layers, dropout=dropout, batch_first=True)\n",
    "        self.fc = nn.Linear(hidden_dim, output_dim)\n",
    "        self.dropout = nn.Dropout(dropout)\n",
    "        \n",
    "    def forward(self, text):\n",
    "        embedded = self.dropout(self.embedding(text))\n",
    "        lstm_output, (hidden, cell) = self.lstm(embedded)\n",
    "        output = self.fc(self.dropout(lstm_output[:,-1,:]))\n",
    "        return output"
   ]
  },
  {
   "cell_type": "code",
   "execution_count": 3,
   "id": "c1e33d48",
   "metadata": {
    "ExecuteTime": {
     "end_time": "2023-04-30T01:25:01.956668Z",
     "start_time": "2023-04-30T01:25:01.908743Z"
    }
   },
   "outputs": [],
   "source": [
    "# Instantiate the model\n",
    "VOCAB_SIZE = len(TEXT.vocab)\n",
    "EMBEDDING_DIM = 100\n",
    "HIDDEN_DIM = 128\n",
    "OUTPUT_DIM = 1\n",
    "N_LAYERS = 3\n",
    "DROPOUT = 0.5\n",
    "\n",
    "model = LSTMClassifier(VOCAB_SIZE, EMBEDDING_DIM, HIDDEN_DIM, OUTPUT_DIM,\n",
    "                       N_LAYERS, DROPOUT).to(device)\n",
    "\n",
    "# Train the model\n",
    "optimizer = optim.Adam(model.parameters())\n",
    "criterion = nn.BCEWithLogitsLoss()\n",
    "\n",
    "\n",
    "def train(model, iterator, optimizer, criterion):\n",
    "    epoch_loss = 0\n",
    "    epoch_acc = 0\n",
    "\n",
    "    model.train()\n",
    "\n",
    "    for batch in iterator:\n",
    "        optimizer.zero_grad()\n",
    "        predictions = model(batch.text).squeeze(1)\n",
    "        loss = criterion(predictions, batch.label)\n",
    "        acc = binary_accuracy(predictions, batch.label)\n",
    "        loss.backward()\n",
    "        optimizer.step()\n",
    "\n",
    "        epoch_loss += loss.item()\n",
    "        epoch_acc += acc.item()\n",
    "\n",
    "    return epoch_loss / len(iterator), epoch_acc / len(iterator)\n",
    "\n",
    "\n",
    "def binary_accuracy(preds, y):\n",
    "    rounded_preds = torch.round(torch.sigmoid(preds))\n",
    "    correct = (rounded_preds == y).float()\n",
    "    acc = correct.sum() / len(correct)\n",
    "    return acc\n",
    "\n",
    "\n",
    "def evaluate(model, iterator, criterion):\n",
    "    epoch_loss = 0\n",
    "    epoch_acc = 0\n",
    "    model.eval()\n",
    "\n",
    "    with torch.no_grad():\n",
    "        for batch in iterator:\n",
    "            predictions = model(batch.text).squeeze(1)\n",
    "            loss = criterion(predictions, batch.label)\n",
    "            acc = binary_accuracy(predictions, batch.label)\n",
    "            epoch_loss += loss.item()\n",
    "            epoch_acc += acc.item()\n",
    "\n",
    "    return epoch_loss / len(iterator), epoch_acc / len(iterator)"
   ]
  },
  {
   "cell_type": "code",
   "execution_count": 4,
   "id": "6ac72163",
   "metadata": {
    "ExecuteTime": {
     "end_time": "2023-04-30T01:27:09.762992Z",
     "start_time": "2023-04-30T01:25:04.090344Z"
    }
   },
   "outputs": [
    {
     "name": "stdout",
     "output_type": "stream",
     "text": [
      "Epoch: 01, Train Loss: 0.649, Train Acc: 62.89%, Val. Loss: 0.569, Val. Acc: 72.10%\n",
      "Epoch: 02, Train Loss: 0.534, Train Acc: 73.74%, Val. Loss: 0.447, Val. Acc: 79.60%\n",
      "Epoch: 03, Train Loss: 0.436, Train Acc: 80.24%, Val. Loss: 0.522, Val. Acc: 80.78%\n",
      "Epoch: 04, Train Loss: 0.378, Train Acc: 83.67%, Val. Loss: 0.359, Val. Acc: 85.34%\n",
      "Epoch: 05, Train Loss: 0.318, Train Acc: 86.24%, Val. Loss: 0.329, Val. Acc: 88.74%\n",
      "Epoch: 06, Train Loss: 0.294, Train Acc: 88.01%, Val. Loss: 0.344, Val. Acc: 89.47%\n",
      "Epoch: 07, Train Loss: 0.253, Train Acc: 90.14%, Val. Loss: 0.363, Val. Acc: 88.80%\n",
      "Epoch: 08, Train Loss: 0.235, Train Acc: 90.68%, Val. Loss: 0.316, Val. Acc: 89.42%\n",
      "Epoch: 09, Train Loss: 0.204, Train Acc: 91.62%, Val. Loss: 0.304, Val. Acc: 90.95%\n",
      "Epoch: 10, Train Loss: 0.198, Train Acc: 92.56%, Val. Loss: 0.298, Val. Acc: 91.83%\n"
     ]
    }
   ],
   "source": [
    "N_EPOCHS = 10\n",
    "\n",
    "for epoch in range(N_EPOCHS):\n",
    "    train_loss, train_acc = train(model, train_iterator, optimizer, criterion)\n",
    "    valid_loss, valid_acc = evaluate(model, test_iterator, criterion)\n",
    "    print(\n",
    "        f'Epoch: {epoch+1:02}, Train Loss: {train_loss:.3f}, Train Acc: {train_acc*100:.2f}%, Val. Loss: {valid_loss:.3f}, Val. Acc: {valid_acc*100:.2f}%'\n",
    "    )"
   ]
  },
  {
   "cell_type": "code",
   "execution_count": 5,
   "id": "4bda3432",
   "metadata": {
    "ExecuteTime": {
     "end_time": "2023-04-30T01:28:01.085697Z",
     "start_time": "2023-04-30T01:28:00.364260Z"
    }
   },
   "outputs": [
    {
     "name": "stdout",
     "output_type": "stream",
     "text": [
      "Val. Loss: 0.074, Val. Acc: 96.39%\n"
     ]
    }
   ],
   "source": [
    "import pandas as pd\n",
    "import torch\n",
    "from torchtext.legacy import data\n",
    "from torch.utils.data import DataLoader\n",
    "\n",
    "stmt_test_dataset = data.TabularDataset(\n",
    "    path=\"stmts_data.csv\",\n",
    "    format=\"csv\",\n",
    "    fields={\n",
    "        \"text\": (\"text\", TEXT),\n",
    "        \"label\": (\"label\", LABEL)\n",
    "    },\n",
    ")\n",
    "\n",
    "stmt_test_iterator = data.BucketIterator((stmt_test_dataset),\n",
    "                                         batch_size=16,\n",
    "                                         device=device,\n",
    "                                         sort_key=lambda x: len(x.text),\n",
    "                                         sort_within_batch=True)\n",
    "\n",
    "valid_loss, valid_acc = evaluate(model, stmt_test_iterator, criterion)\n",
    "print(f'Val. Loss: {valid_loss:.3f}, Val. Acc: {valid_acc*100:.2f}%')"
   ]
  },
  {
   "cell_type": "code",
   "execution_count": 7,
   "id": "a0d686d5",
   "metadata": {
    "ExecuteTime": {
     "end_time": "2023-04-30T01:28:21.011711Z",
     "start_time": "2023-04-30T01:28:15.834009Z"
    }
   },
   "outputs": [
    {
     "name": "stdout",
     "output_type": "stream",
     "text": [
      "Val. Loss: 0.166, Val. Acc: 94.71%\n"
     ]
    }
   ],
   "source": [
    "import pandas as pd\n",
    "import torch\n",
    "from torchtext.legacy import data\n",
    "from torch.utils.data import DataLoader\n",
    "\n",
    "stmt_test_dataset = data.TabularDataset(\n",
    "    path=\"mn_data.csv\",\n",
    "    format=\"csv\",\n",
    "    fields={\n",
    "        \"text\": (\"text\", TEXT),\n",
    "        \"label\": (\"label\", LABEL)\n",
    "    },\n",
    ")\n",
    "\n",
    "stmt_test_iterator = data.BucketIterator((stmt_test_dataset),\n",
    "                                         batch_size=16,\n",
    "                                         device=device,\n",
    "                                         sort_key=lambda x: len(x.text),\n",
    "                                         sort_within_batch=True)\n",
    "\n",
    "valid_loss, valid_acc = evaluate(model, stmt_test_iterator, criterion)\n",
    "print(f'Val. Loss: {valid_loss:.3f}, Val. Acc: {valid_acc*100:.2f}%')"
   ]
  }
 ],
 "metadata": {
  "kernelspec": {
   "display_name": "Python 3 (ipykernel)",
   "language": "python",
   "name": "python3"
  },
  "language_info": {
   "codemirror_mode": {
    "name": "ipython",
    "version": 3
   },
   "file_extension": ".py",
   "mimetype": "text/x-python",
   "name": "python",
   "nbconvert_exporter": "python",
   "pygments_lexer": "ipython3",
   "version": "3.8.8"
  },
  "toc": {
   "base_numbering": 1,
   "nav_menu": {},
   "number_sections": true,
   "sideBar": true,
   "skip_h1_title": false,
   "title_cell": "Table of Contents",
   "title_sidebar": "Contents",
   "toc_cell": false,
   "toc_position": {},
   "toc_section_display": true,
   "toc_window_display": false
  }
 },
 "nbformat": 4,
 "nbformat_minor": 5
}
