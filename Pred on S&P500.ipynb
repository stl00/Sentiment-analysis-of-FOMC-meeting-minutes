{
 "cells": [
  {
   "cell_type": "code",
   "execution_count": 1,
   "id": "d6c12cab",
   "metadata": {
    "ExecuteTime": {
     "end_time": "2023-04-30T03:00:28.644788Z",
     "start_time": "2023-04-30T03:00:19.525220Z"
    },
    "scrolled": false
   },
   "outputs": [
    {
     "name": "stderr",
     "output_type": "stream",
     "text": [
      "/Users/olliesun/opt/anaconda3/envs/NLP2/lib/python3.8/site-packages/torchtext/data/utils.py:123: UserWarning: Spacy model \"en\" could not be loaded, trying \"en_core_web_sm\" instead\n",
      "  warnings.warn(f'Spacy model \"{language}\" could not be loaded, trying \"{OLD_MODEL_SHORTCUTS[language]}\" instead')\n"
     ]
    }
   ],
   "source": [
    "import torch\n",
    "import torch.nn as nn\n",
    "import torch.optim as optim\n",
    "from torchtext.legacy import data\n",
    "from torchtext.legacy import datasets\n",
    "from sklearn.model_selection import train_test_split\n",
    "from nltk.corpus import stopwords\n",
    "from nltk.tokenize import word_tokenize\n",
    "\n",
    "import spacy\n",
    "\n",
    "# Preprocess the text data\n",
    "def preprocess_text(tokens):\n",
    "    \n",
    "    # Convert to lowercase and remove non-alphabetic characters\n",
    "    words = [word.lower() for word in tokens if word.isalpha()]\n",
    "    \n",
    "    # Remove stopwords\n",
    "    stop_words = set(stopwords.words('english'))\n",
    "    clean_words = [word for word in words if word not in stop_words]\n",
    "    \n",
    "    return clean_words\n",
    "\n",
    "# Create the dataset\n",
    "TEXT = data.Field(\n",
    "    tokenize='spacy',\n",
    "    preprocessing=preprocess_text,\n",
    "    lower=True,\n",
    "    batch_first=True)\n",
    "\n",
    "LABEL = data.LabelField(dtype=torch.float, batch_first=True)\n",
    "\n",
    "dataset = data.TabularDataset(\n",
    "    path=\"data.csv\",\n",
    "    format=\"csv\",\n",
    "    fields={\n",
    "        \"text\": (\"text\", TEXT),\n",
    "        \"ret_label\": (\"label\", LABEL)\n",
    "    },\n",
    ")"
   ]
  },
  {
   "cell_type": "code",
   "execution_count": 2,
   "id": "ae2feba4",
   "metadata": {
    "ExecuteTime": {
     "end_time": "2023-04-30T03:00:29.081642Z",
     "start_time": "2023-04-30T03:00:28.646268Z"
    }
   },
   "outputs": [],
   "source": [
    "# Split the dataset into training and testing sets\n",
    "train_data, test_data = dataset.split(split_ratio=0.8)\n",
    "\n",
    "# Build the vocabulary\n",
    "TEXT.build_vocab(train_data, max_size=10000, vectors=\"glove.6B.100d\", unk_init=torch.Tensor.normal_)\n",
    "LABEL.build_vocab(train_data)\n",
    "\n",
    "# Create data iterators\n",
    "BATCH_SIZE = 8\n",
    "device = torch.device(\"cuda\" if torch.cuda.is_available() else \"cpu\")\n",
    "train_iterator, test_iterator = data.BucketIterator.splits(\n",
    "    (train_data, test_data),\n",
    "    batch_size=BATCH_SIZE,\n",
    "    device=device,\n",
    "    sort_key = lambda x: len(x.text),\n",
    "    sort_within_batch=True\n",
    ")\n",
    "\n",
    "# Create the LSTM model\n",
    "class LSTMClassifier(nn.Module):\n",
    "    def __init__(self, vocab_size, embedding_dim, hidden_dim, output_dim, n_layers, dropout):\n",
    "        super().__init__()\n",
    "        self.embedding = nn.Embedding(vocab_size, embedding_dim)\n",
    "        self.lstm = nn.LSTM(embedding_dim, hidden_dim, num_layers=n_layers, dropout=dropout, batch_first=True)\n",
    "        self.fc = nn.Linear(hidden_dim, output_dim)\n",
    "        self.dropout = nn.Dropout(dropout)\n",
    "        \n",
    "    def forward(self, text):\n",
    "        embedded = self.dropout(self.embedding(text))\n",
    "        lstm_output, (hidden, cell) = self.lstm(embedded)\n",
    "        output = self.fc(self.dropout(lstm_output[:,-1,:]))\n",
    "        return output"
   ]
  },
  {
   "cell_type": "code",
   "execution_count": 5,
   "id": "c1e33d48",
   "metadata": {
    "ExecuteTime": {
     "end_time": "2023-04-30T17:27:34.877690Z",
     "start_time": "2023-04-30T17:23:15.473379Z"
    }
   },
   "outputs": [
    {
     "name": "stdout",
     "output_type": "stream",
     "text": [
      "Epoch: 01, Train Loss: 0.696, Train Acc: 49.07%, Val. Loss: 0.692, Val. Acc: 66.67%\n",
      "Epoch: 02, Train Loss: 0.687, Train Acc: 56.02%, Val. Loss: 0.693, Val. Acc: 66.67%\n",
      "Epoch: 03, Train Loss: 0.693, Train Acc: 51.39%, Val. Loss: 0.692, Val. Acc: 66.67%\n",
      "Epoch: 04, Train Loss: 0.694, Train Acc: 57.87%, Val. Loss: 0.694, Val. Acc: 66.67%\n",
      "Epoch: 05, Train Loss: 0.686, Train Acc: 60.19%, Val. Loss: 0.691, Val. Acc: 66.67%\n",
      "Epoch: 06, Train Loss: 0.689, Train Acc: 56.48%, Val. Loss: 0.690, Val. Acc: 66.67%\n",
      "Epoch: 07, Train Loss: 0.696, Train Acc: 48.61%, Val. Loss: 0.685, Val. Acc: 62.50%\n",
      "Epoch: 08, Train Loss: 0.703, Train Acc: 48.15%, Val. Loss: 0.683, Val. Acc: 62.50%\n",
      "Epoch: 09, Train Loss: 0.700, Train Acc: 54.17%, Val. Loss: 0.678, Val. Acc: 62.50%\n",
      "Epoch: 10, Train Loss: 0.692, Train Acc: 54.17%, Val. Loss: 0.678, Val. Acc: 62.50%\n"
     ]
    }
   ],
   "source": [
    "# Instantiate the model\n",
    "VOCAB_SIZE = len(TEXT.vocab)\n",
    "EMBEDDING_DIM = 100\n",
    "HIDDEN_DIM = 64\n",
    "OUTPUT_DIM = 1\n",
    "N_LAYERS = 2\n",
    "DROPOUT = 0.5\n",
    "\n",
    "model = LSTMClassifier(VOCAB_SIZE, EMBEDDING_DIM, HIDDEN_DIM, OUTPUT_DIM,\n",
    "                       N_LAYERS, DROPOUT).to(device)\n",
    "\n",
    "# Train the model\n",
    "optimizer = optim.Adam(model.parameters())\n",
    "criterion = nn.BCEWithLogitsLoss()\n",
    "\n",
    "\n",
    "def train(model, iterator, optimizer, criterion):\n",
    "    epoch_loss = 0\n",
    "    epoch_acc = 0\n",
    "\n",
    "    model.train()\n",
    "\n",
    "    for batch in iterator:\n",
    "        optimizer.zero_grad()\n",
    "        predictions = model(batch.text).squeeze(1)\n",
    "        loss = criterion(predictions, batch.label)\n",
    "        acc = binary_accuracy(predictions, batch.label)\n",
    "        loss.backward()\n",
    "        optimizer.step()\n",
    "\n",
    "        epoch_loss += loss.item()\n",
    "        epoch_acc += acc.item()\n",
    "\n",
    "    return epoch_loss / len(iterator), epoch_acc / len(iterator)\n",
    "\n",
    "\n",
    "def binary_accuracy(preds, y):\n",
    "    rounded_preds = torch.round(torch.sigmoid(preds))\n",
    "    correct = (rounded_preds == y).float()\n",
    "    acc = correct.sum() / len(correct)\n",
    "    return acc\n",
    "\n",
    "\n",
    "def evaluate(model, iterator, criterion):\n",
    "    epoch_loss = 0\n",
    "    epoch_acc = 0\n",
    "    model.eval()\n",
    "\n",
    "    with torch.no_grad():\n",
    "        for batch in iterator:\n",
    "            predictions = model(batch.text).squeeze(1)\n",
    "            loss = criterion(predictions, batch.label)\n",
    "            acc = binary_accuracy(predictions, batch.label)\n",
    "\n",
    "            epoch_loss += loss.item()\n",
    "            epoch_acc += acc.item()\n",
    "\n",
    "    return epoch_loss / len(iterator), epoch_acc / len(iterator)\n",
    "\n",
    "\n",
    "N_EPOCHS = 10\n",
    "\n",
    "for epoch in range(N_EPOCHS):\n",
    "    train_loss, train_acc = train(model, train_iterator, optimizer, criterion)\n",
    "    valid_loss, valid_acc = evaluate(model, test_iterator, criterion)\n",
    "    print(\n",
    "        f'Epoch: {epoch+1:02}, Train Loss: {train_loss:.3f}, Train Acc: {train_acc*100:.2f}%, Val. Loss: {valid_loss:.3f}, Val. Acc: {valid_acc*100:.2f}%'\n",
    "    )"
   ]
  }
 ],
 "metadata": {
  "kernelspec": {
   "display_name": "Python 3 (ipykernel)",
   "language": "python",
   "name": "python3"
  },
  "language_info": {
   "codemirror_mode": {
    "name": "ipython",
    "version": 3
   },
   "file_extension": ".py",
   "mimetype": "text/x-python",
   "name": "python",
   "nbconvert_exporter": "python",
   "pygments_lexer": "ipython3",
   "version": "3.8.16"
  },
  "toc": {
   "base_numbering": 1,
   "nav_menu": {},
   "number_sections": true,
   "sideBar": true,
   "skip_h1_title": false,
   "title_cell": "Table of Contents",
   "title_sidebar": "Contents",
   "toc_cell": false,
   "toc_position": {},
   "toc_section_display": true,
   "toc_window_display": false
  }
 },
 "nbformat": 4,
 "nbformat_minor": 5
}
